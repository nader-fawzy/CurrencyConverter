{
 "cells": [
  {
   "cell_type": "markdown",
   "metadata": {},
   "source": [
    "# This Notebook for Chick the currancy converter will work under any situation\n"
   ]
  },
  {
   "cell_type": "code",
   "execution_count": 11,
   "metadata": {},
   "outputs": [],
   "source": [
    "# Simulated exchange rates (base = EGP)\n",
    "exchange_rates = {\n",
    "    \"USD\": 0.01984,\n",
    "    \"EUR\": 0.01779,\n",
    "    \"EGP\": 1.000\n",
    "}"
   ]
  },
  {
   "cell_type": "code",
   "execution_count": 12,
   "metadata": {},
   "outputs": [],
   "source": [
    "def convert_currency(amount, from_currency, to_currency, rates):\n",
    "    rate_from = rates[from_currency]\n",
    "    rate_to = rates[to_currency]\n",
    "    \n",
    "    # Convert to EGP first, then to target\n",
    "    converted_amount = (amount / rate_from)* rate_to\n",
    "    return round(converted_amount, 2)"
   ]
  },
  {
   "cell_type": "code",
   "execution_count": 13,
   "metadata": {},
   "outputs": [],
   "source": [
    "def convert_all_properties(properties, target_currency, rates):\n",
    "    converted_list = []\n",
    "\n",
    "    for prop in properties:\n",
    "        original_amount = prop[\"amount\"]\n",
    "        original_currency = prop[\"currency\"]\n",
    "        unit_id = prop[\"unit_id\"]\n",
    "\n",
    "        converted_amount = convert_currency(\n",
    "            original_amount, original_currency, target_currency, rates\n",
    "        )\n",
    "\n",
    "        converted_list.append({\n",
    "            \"unit_id\": unit_id,\n",
    "            \"original_amount\": original_amount,\n",
    "            \"original_currency\": original_currency,\n",
    "            \"converted_amount\": converted_amount,\n",
    "            \"converted_currency\": target_currency\n",
    "        })\n",
    "\n",
    "    return converted_list"
   ]
  },
  {
   "cell_type": "markdown",
   "metadata": {},
   "source": [
    "## This part act like a database"
   ]
  },
  {
   "cell_type": "code",
   "execution_count": 14,
   "metadata": {},
   "outputs": [],
   "source": [
    "properties = [\n",
    "    {\"unit_id\": 1, \"amount\": 2000000, \"currency\": \"EGP\"},\n",
    "    {\"unit_id\": 2, \"amount\": 150000, \"currency\": \"USD\"},\n",
    "    {\"unit_id\": 3, \"amount\": 130000, \"currency\": \"EUR\"},\n",
    "    {\"unit_id\": 4, \"amount\": 500000, \"currency\": \"EGP\"},\n",
    "    {\"unit_id\": 5, \"amount\": 400000, \"currency\": \"EGP\"},\n",
    "    {\"unit_id\": 6, \"amount\": 1000000, \"currency\": \"EGP\"},\n",
    "]"
   ]
  },
  {
   "cell_type": "markdown",
   "metadata": {},
   "source": [
    "## This part is a Test Cases"
   ]
  },
  {
   "cell_type": "code",
   "execution_count": 16,
   "metadata": {},
   "outputs": [
    {
     "name": "stdout",
     "output_type": "stream",
     "text": [
      "Unit 1: 2000000 EGP → 35580.0 EUR\n",
      "Unit 2: 150000 USD → 134501.01 EUR\n",
      "Unit 3: 130000 EUR → 130000.0 EUR\n",
      "Unit 4: 500000 EGP → 8895.0 EUR\n",
      "Unit 5: 400000 EGP → 7116.0 EUR\n",
      "Unit 6: 1000000 EGP → 17790.0 EUR\n"
     ]
    }
   ],
   "source": [
    "\n",
    "# Convert all properties to the selected currency\n",
    "selected_currency = \"EUR\"\n",
    "\n",
    "# Get all converted results\n",
    "converted_props = convert_all_properties(properties, selected_currency, exchange_rates)\n",
    "\n",
    "# Display results\n",
    "for item in converted_props:\n",
    "    print(f\"Unit {item['unit_id']}: {item['original_amount']} {item['original_currency']} → {item['converted_amount']} {item['converted_currency']}\")"
   ]
  },
  {
   "cell_type": "code",
   "execution_count": 17,
   "metadata": {},
   "outputs": [
    {
     "name": "stdout",
     "output_type": "stream",
     "text": [
      "Unit 1: 2000000 EGP → 2000000.0 EGP\n",
      "Unit 2: 150000 USD → 7560483.87 EGP\n",
      "Unit 3: 130000 EUR → 7307476.11 EGP\n",
      "Unit 4: 500000 EGP → 500000.0 EGP\n",
      "Unit 5: 400000 EGP → 400000.0 EGP\n",
      "Unit 6: 1000000 EGP → 1000000.0 EGP\n"
     ]
    }
   ],
   "source": [
    "\n",
    "# Convert all properties to the selected currency\n",
    "selected_currency = \"EGP\"\n",
    "\n",
    "# Get all converted results\n",
    "converted_props = convert_all_properties(properties, selected_currency, exchange_rates)\n",
    "\n",
    "# Display results\n",
    "for item in converted_props:\n",
    "    print(f\"Unit {item['unit_id']}: {item['original_amount']} {item['original_currency']} → {item['converted_amount']} {item['converted_currency']}\")"
   ]
  },
  {
   "cell_type": "code",
   "execution_count": 18,
   "metadata": {},
   "outputs": [
    {
     "name": "stdout",
     "output_type": "stream",
     "text": [
      "Unit 1: 2000000 EGP → 39680.0 USD\n",
      "Unit 2: 150000 USD → 150000.0 USD\n",
      "Unit 3: 130000 EUR → 144980.33 USD\n",
      "Unit 4: 500000 EGP → 9920.0 USD\n",
      "Unit 5: 400000 EGP → 7936.0 USD\n",
      "Unit 6: 1000000 EGP → 19840.0 USD\n"
     ]
    }
   ],
   "source": [
    "\n",
    "# Convert all properties to the selected currency\n",
    "selected_currency = \"USD\"\n",
    "\n",
    "# Get all converted results\n",
    "converted_props = convert_all_properties(properties, selected_currency, exchange_rates)\n",
    "\n",
    "# Display results\n",
    "for item in converted_props:\n",
    "    print(f\"Unit {item['unit_id']}: {item['original_amount']} {item['original_currency']} → {item['converted_amount']} {item['converted_currency']}\")"
   ]
  }
 ],
 "metadata": {
  "kernelspec": {
   "display_name": "Python 3",
   "language": "python",
   "name": "python3"
  },
  "language_info": {
   "codemirror_mode": {
    "name": "ipython",
    "version": 3
   },
   "file_extension": ".py",
   "mimetype": "text/x-python",
   "name": "python",
   "nbconvert_exporter": "python",
   "pygments_lexer": "ipython3",
   "version": "3.9.6"
  }
 },
 "nbformat": 4,
 "nbformat_minor": 2
}
