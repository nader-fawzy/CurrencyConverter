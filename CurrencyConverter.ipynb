{
 "cells": [
  {
   "cell_type": "markdown",
   "metadata": {},
   "source": [
    "# This Notebook for Chick the currancy converter will work under any situation\n"
   ]
  },
  {
   "cell_type": "code",
   "execution_count": 11,
   "metadata": {},
   "outputs": [],
   "source": [
    "# Simulated exchange rates (base = EGP)\n",
    "exchange_rates = {\n",
    "    \"USD\": 0.01995,\n",
    "    \"EUR\": 0.01784,\n",
    "    \"EGP\": 1.000,\n",
    "    \"KWD\": 0.00613,\n",
    "    \"AED\": 0.07329,\n",
    "    \"SAR\": 0.07483\n",
    "}"
   ]
  },
  {
   "cell_type": "code",
   "execution_count": 2,
   "metadata": {},
   "outputs": [],
   "source": [
    "def convert_currency(amount, from_currency, to_currency, rates):\n",
    "    rate_from = rates[from_currency]\n",
    "    rate_to = rates[to_currency]\n",
    "    \n",
    "    # Convert to EGP first, then to target\n",
    "    converted_amount = (amount / rate_from)* rate_to\n",
    "    return round(converted_amount, 2)"
   ]
  },
  {
   "cell_type": "code",
   "execution_count": 3,
   "metadata": {},
   "outputs": [],
   "source": [
    "def convert_all_properties(properties, target_currency, rates):\n",
    "    converted_list = []\n",
    "\n",
    "    for prop in properties:\n",
    "        original_amount = prop[\"amount\"]\n",
    "        original_currency = prop[\"currency\"]\n",
    "        unit_id = prop[\"unit_id\"]\n",
    "\n",
    "        converted_amount = convert_currency(\n",
    "            original_amount, original_currency, target_currency, rates\n",
    "        )\n",
    "\n",
    "        converted_list.append({\n",
    "            \"unit_id\": unit_id,\n",
    "            \"original_amount\": original_amount,\n",
    "            \"original_currency\": original_currency,\n",
    "            \"converted_amount\": converted_amount,\n",
    "            \"converted_currency\": target_currency\n",
    "        })\n",
    "\n",
    "    return converted_list"
   ]
  },
  {
   "cell_type": "markdown",
   "metadata": {},
   "source": [
    "# 20 Property Records with Mixed Currencies\n",
    "This sample dataset simulates a real-world real estate listing scenario where properties are entered with different currencies depending on their location or developer preference.\n"
   ]
  },
  {
   "cell_type": "code",
   "execution_count": 12,
   "metadata": {},
   "outputs": [],
   "source": [
    "properties = [\n",
    "    {\"unit_id\": 1, \"amount\": 2000000, \"currency\": \"EGP\"},\n",
    "    {\"unit_id\": 2, \"amount\": 150000, \"currency\": \"USD\"},\n",
    "    {\"unit_id\": 3, \"amount\": 130000, \"currency\": \"EUR\"},\n",
    "    {\"unit_id\": 4, \"amount\": 500000, \"currency\": \"EGP\"},\n",
    "    {\"unit_id\": 5, \"amount\": 400000, \"currency\": \"EGP\"},\n",
    "    {\"unit_id\": 6, \"amount\": 1000000, \"currency\": \"EGP\"},\n",
    "    {\"unit_id\": 7, \"amount\": 180000, \"currency\": \"USD\"},\n",
    "    {\"unit_id\": 8, \"amount\": 160000, \"currency\": \"EUR\"},\n",
    "    {\"unit_id\": 9, \"amount\": 700000, \"currency\": \"SAR\"},\n",
    "    {\"unit_id\": 10, \"amount\": 850000, \"currency\": \"EGP\"},\n",
    "    {\"unit_id\": 11, \"amount\": 120000, \"currency\": \"USD\"},\n",
    "    {\"unit_id\": 12, \"amount\": 95000, \"currency\": \"EUR\"},\n",
    "    {\"unit_id\": 13, \"amount\": 620000, \"currency\": \"EGP\"},\n",
    "    {\"unit_id\": 14, \"amount\": 330000, \"currency\": \"USD\"},\n",
    "    {\"unit_id\": 15, \"amount\": 275000, \"currency\": \"EUR\"},\n",
    "    {\"unit_id\": 16, \"amount\": 900000, \"currency\": \"SAR\"},\n",
    "    {\"unit_id\": 17, \"amount\": 1900000, \"currency\": \"EGP\"},\n",
    "    {\"unit_id\": 18, \"amount\": 240000, \"currency\": \"USD\"},\n",
    "    {\"unit_id\": 19, \"amount\": 215000, \"currency\": \"EUR\"},\n",
    "    {\"unit_id\": 20, \"amount\": 300000, \"currency\": \"SAR\"},\n",
    "]"
   ]
  },
  {
   "cell_type": "markdown",
   "metadata": {},
   "source": [
    "## ✅ Test Case: User Selects “EGP” as Display Currency from Dropdown"
   ]
  },
  {
   "cell_type": "code",
   "execution_count": 14,
   "metadata": {},
   "outputs": [
    {
     "name": "stdout",
     "output_type": "stream",
     "text": [
      "Unit 1: 2000000 EGP → 2000000.0 EGP\n",
      "Unit 2: 150000 USD → 7518796.99 EGP\n",
      "Unit 3: 130000 EUR → 7286995.52 EGP\n",
      "Unit 4: 500000 EGP → 500000.0 EGP\n",
      "Unit 5: 400000 EGP → 400000.0 EGP\n",
      "Unit 6: 1000000 EGP → 1000000.0 EGP\n",
      "Unit 7: 180000 USD → 9022556.39 EGP\n",
      "Unit 8: 160000 EUR → 8968609.87 EGP\n",
      "Unit 9: 700000 SAR → 9354536.95 EGP\n",
      "Unit 10: 850000 EGP → 850000.0 EGP\n",
      "Unit 11: 120000 USD → 6015037.59 EGP\n",
      "Unit 12: 95000 EUR → 5325112.11 EGP\n",
      "Unit 13: 620000 EGP → 620000.0 EGP\n",
      "Unit 14: 330000 USD → 16541353.38 EGP\n",
      "Unit 15: 275000 EUR → 15414798.21 EGP\n",
      "Unit 16: 900000 SAR → 12027261.79 EGP\n",
      "Unit 17: 1900000 EGP → 1900000.0 EGP\n",
      "Unit 18: 240000 USD → 12030075.19 EGP\n",
      "Unit 19: 215000 EUR → 12051569.51 EGP\n",
      "Unit 20: 300000 SAR → 4009087.26 EGP\n"
     ]
    }
   ],
   "source": [
    "\n",
    "# Convert all properties to the selected currency\n",
    "selected_currency = \"EGP\"\n",
    "\n",
    "# Get all converted results\n",
    "converted_props = convert_all_properties(properties, selected_currency, exchange_rates)\n",
    "\n",
    "# Display results\n",
    "for item in converted_props:\n",
    "    print(f\"Unit {item['unit_id']}: {item['original_amount']} {item['original_currency']} → {item['converted_amount']} {item['converted_currency']}\")"
   ]
  },
  {
   "cell_type": "markdown",
   "metadata": {},
   "source": [
    "## ✅ Test Case: User Selects “USD” as Display Currency from Dropdown"
   ]
  },
  {
   "cell_type": "code",
   "execution_count": 15,
   "metadata": {},
   "outputs": [
    {
     "name": "stdout",
     "output_type": "stream",
     "text": [
      "Unit 1: 2000000 EGP → 39900.0 USD\n",
      "Unit 2: 150000 USD → 150000.0 USD\n",
      "Unit 3: 130000 EUR → 145375.56 USD\n",
      "Unit 4: 500000 EGP → 9975.0 USD\n",
      "Unit 5: 400000 EGP → 7980.0 USD\n",
      "Unit 6: 1000000 EGP → 19950.0 USD\n",
      "Unit 7: 180000 USD → 180000.0 USD\n",
      "Unit 8: 160000 EUR → 178923.77 USD\n",
      "Unit 9: 700000 SAR → 186623.01 USD\n",
      "Unit 10: 850000 EGP → 16957.5 USD\n",
      "Unit 11: 120000 USD → 120000.0 USD\n",
      "Unit 12: 95000 EUR → 106235.99 USD\n",
      "Unit 13: 620000 EGP → 12369.0 USD\n",
      "Unit 14: 330000 USD → 330000.0 USD\n",
      "Unit 15: 275000 EUR → 307525.22 USD\n",
      "Unit 16: 900000 SAR → 239943.87 USD\n",
      "Unit 17: 1900000 EGP → 37905.0 USD\n",
      "Unit 18: 240000 USD → 240000.0 USD\n",
      "Unit 19: 215000 EUR → 240428.81 USD\n",
      "Unit 20: 300000 SAR → 79981.29 USD\n"
     ]
    }
   ],
   "source": [
    "\n",
    "# Convert all properties to the selected currency\n",
    "selected_currency = \"USD\"\n",
    "\n",
    "# Get all converted results\n",
    "converted_props = convert_all_properties(properties, selected_currency, exchange_rates)\n",
    "\n",
    "# Display results\n",
    "for item in converted_props:\n",
    "    print(f\"Unit {item['unit_id']}: {item['original_amount']} {item['original_currency']} → {item['converted_amount']} {item['converted_currency']}\")"
   ]
  },
  {
   "cell_type": "markdown",
   "metadata": {},
   "source": [
    "## ✅ Test Case: User Selects “AED” as Display Currency from Dropdown"
   ]
  },
  {
   "cell_type": "code",
   "execution_count": 16,
   "metadata": {},
   "outputs": [
    {
     "name": "stdout",
     "output_type": "stream",
     "text": [
      "Unit 1: 2000000 EGP → 146580.0 AED\n",
      "Unit 2: 150000 USD → 551052.63 AED\n",
      "Unit 3: 130000 EUR → 534063.9 AED\n",
      "Unit 4: 500000 EGP → 36645.0 AED\n",
      "Unit 5: 400000 EGP → 29316.0 AED\n",
      "Unit 6: 1000000 EGP → 73290.0 AED\n",
      "Unit 7: 180000 USD → 661263.16 AED\n",
      "Unit 8: 160000 EUR → 657309.42 AED\n",
      "Unit 9: 700000 SAR → 685594.01 AED\n",
      "Unit 10: 850000 EGP → 62296.5 AED\n",
      "Unit 11: 120000 USD → 440842.11 AED\n",
      "Unit 12: 95000 EUR → 390277.47 AED\n",
      "Unit 13: 620000 EGP → 45439.8 AED\n",
      "Unit 14: 330000 USD → 1212315.79 AED\n",
      "Unit 15: 275000 EUR → 1129750.56 AED\n",
      "Unit 16: 900000 SAR → 881478.02 AED\n",
      "Unit 17: 1900000 EGP → 139251.0 AED\n",
      "Unit 18: 240000 USD → 881684.21 AED\n",
      "Unit 19: 215000 EUR → 883259.53 AED\n",
      "Unit 20: 300000 SAR → 293826.01 AED\n"
     ]
    }
   ],
   "source": [
    "\n",
    "# Convert all properties to the selected currency\n",
    "selected_currency = \"AED\"\n",
    "\n",
    "# Get all converted results\n",
    "converted_props = convert_all_properties(properties, selected_currency, exchange_rates)\n",
    "\n",
    "# Display results\n",
    "for item in converted_props:\n",
    "    print(f\"Unit {item['unit_id']}: {item['original_amount']} {item['original_currency']} → {item['converted_amount']} {item['converted_currency']}\")"
   ]
  },
  {
   "cell_type": "code",
   "execution_count": null,
   "metadata": {},
   "outputs": [],
   "source": []
  }
 ],
 "metadata": {
  "kernelspec": {
   "display_name": "Python 3",
   "language": "python",
   "name": "python3"
  },
  "language_info": {
   "codemirror_mode": {
    "name": "ipython",
    "version": 3
   },
   "file_extension": ".py",
   "mimetype": "text/x-python",
   "name": "python",
   "nbconvert_exporter": "python",
   "pygments_lexer": "ipython3",
   "version": "3.9.6"
  }
 },
 "nbformat": 4,
 "nbformat_minor": 2
}
